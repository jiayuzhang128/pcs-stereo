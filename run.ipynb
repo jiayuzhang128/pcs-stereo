{
 "cells": [
  {
   "cell_type": "markdown",
   "metadata": {},
   "source": [
    "## Data splits \n",
    "\n",
    "+ --train_split \"20170221_1357,20170222_0715,20170222_1207,20170222_1638,20170223_0920,20170223_1217,20170223_1445,20170224_1022\" \n",
    "\n",
    "+ --test_split \"20170222_0951,20170222_1423,20170223_1639,20170224_0742\""
   ]
  },
  {
   "cell_type": "markdown",
   "metadata": {},
   "source": [
    "## Train"
   ]
  },
  {
   "cell_type": "code",
   "execution_count": null,
   "metadata": {},
   "outputs": [],
   "source": [
    "!python -W ignore ./train.py \\\n",
    "    --data_path \"/your/path/to/data\" \\\n",
    "    --list_path \"/your/path/to/lists\" \\\n",
    "    --test_splits \"20170222_0951,20170222_1423,20170223_1639,20170224_0742\" \\\n",
    "    --model_name \"igev_train\" \\\n",
    "    --stereo_network \"IGEVStereo\" \\\n",
    "    --use_dense_label \\\n",
    "    --tmp_img_path './tmp/igev_train/disp' \\\n",
    "    --train_stereo \\\n",
    "    --norm \\\n",
    "    --feature_type 'separate' \\\n",
    "    --use_gradient_loss \\\n",
    "    --num_epochs 10 \\\n",
    "    --batch_size 2 \\\n",
    "    --load_weights_folder \"./ckpts\" \\\n",
    "    --models_to_load \"igev_pretrained.pth\" \\\n",
    "    --gradient_weight 0.1 \\\n",
    "    --remove_outlaiers \\\n",
    "    --lr 0.0001 1e-4 10"
   ]
  },
  {
   "cell_type": "code",
   "execution_count": null,
   "metadata": {},
   "outputs": [],
   "source": [
    "!python -W ignore ./train.py \\\n",
    "    --data_path \"/your/path/to/data\" \\\n",
    "    --list_path \"/your/path/to/lists\" \\\n",
    "    --test_splits \"20170222_0951,20170222_1423,20170223_1639,20170224_0742\" \\\n",
    "    --model_name \"psm_train\" \\\n",
    "    --stereo_network \"PSMNet\" \\\n",
    "    --tmp_img_path './tmp/psm_train/disp' \\\n",
    "    --train_stereo \\\n",
    "    --norm \\\n",
    "    --use_dense_label \\\n",
    "    --use_consistency_loss \\\n",
    "    --use_gradient_loss \\\n",
    "    --num_epochs 30 \\\n",
    "    --batch_size 2 \\\n",
    "    --load_weights_folder \"./ckpts\" \\\n",
    "    --models_to_load \"psm_pretrained.tar\" \\\n",
    "    --gradient_weight 0.1 \\\n",
    "    --consistency_weight 1 \\\n",
    "    --remove_outlaiers \\\n",
    "    --lr 0.0001 1e-4 30"
   ]
  },
  {
   "cell_type": "markdown",
   "metadata": {},
   "source": [
    "## Evaluation"
   ]
  },
  {
   "cell_type": "code",
   "execution_count": 38,
   "metadata": {},
   "outputs": [
    {
     "name": "stdout",
     "output_type": "stream",
     "text": [
      "loading model from folder ./ckpts\n",
      "Loading psm_best.pth weights...\n",
      "Cannot find model Adam weights so Adam is randomly initialized\n",
      "Training model named:\n",
      "   psm_0512\n",
      "Models and tensorboard events files are saved to:\n",
      "   ./tmp\n",
      "Training is using:\n",
      "   cuda\n",
      "There are 40000 training items and 2000 validation items\n",
      "\n",
      "Found 500 images. Saving files to ./tmp/psm_0512/eval_disp/\n",
      "Found 500 images. Saving files to ./tmp/psm_0512/eval_disp/\n",
      "Found 500 images. Saving files to ./tmp/psm_0512/eval_disp/\n",
      "Found 500 images. Saving files to ./tmp/psm_0512/eval_disp/\n",
      "Common    Light     Glass     Glossy  Vegetation   Skin    Clothing    Bag       Mean\n",
      "0.4454    0.7883    0.8326    0.9909    0.6487    0.8257    0.8311    0.5917    0.7443\n",
      "\n"
     ]
    }
   ],
   "source": [
    "!python -W ignore ./evaluate.py \\\n",
    "    --data_path \"/media/jiayu/My Passport1/academic/depth_estimation/datasets/RGB-NIR_stereo/tzhi/RGBNIRStereoRelease/test_rgbnir_stereo_proxy/data\" \\\n",
    "    --list_path \"/media/jiayu/My Passport1/academic/depth_estimation/datasets/RGB-NIR_stereo/tzhi/RGBNIRStereoRelease/test_rgbnir_stereo_proxy/lists\" \\\n",
    "    --test_splits \"20170222_0951,20170222_1423,20170223_1639,20170224_0742\" \\\n",
    "    --model_name \"psm_eval\" \\\n",
    "    --stereo_network \"PSMNet\" \\\n",
    "    --train_stereo \\\n",
    "    --save_eval_results \\\n",
    "    --batch_size 2 \\\n",
    "    --norm \\\n",
    "    --load_weights_folder \"./ckpts\" \\\n",
    "    --models_to_load \"psm_best.pth\" "
   ]
  },
  {
   "cell_type": "code",
   "execution_count": 40,
   "metadata": {},
   "outputs": [
    {
     "name": "stdout",
     "output_type": "stream",
     "text": [
      "loading model from folder ./ckpts\n",
      "Loading igev_best.pth weights...\n",
      "Cannot find model Adam weights so Adam is randomly initialized\n",
      "Training model named:\n",
      "   igev_eval\n",
      "Models and tensorboard events files are saved to:\n",
      "   ./tmp\n",
      "Training is using:\n",
      "   cuda\n",
      "There are 40000 training items and 2000 validation items\n",
      "\n",
      "Found 500 images. Saving files to ./tmp/igev_eval/eval_disp/\n",
      "Found 500 images. Saving files to ./tmp/igev_eval/eval_disp/\n",
      "Found 500 images. Saving files to ./tmp/igev_eval/eval_disp/\n",
      "Found 500 images. Saving files to ./tmp/igev_eval/eval_disp/\n",
      "Common    Light     Glass     Glossy  Vegetation   Skin    Clothing    Bag       Mean\n",
      "0.4172    0.4618    0.8264    0.9591    0.5924    0.5798    0.441    0.5007    0.5973\n",
      "\n"
     ]
    }
   ],
   "source": [
    "!python -W ignore ./evaluate.py \\\n",
    "    --data_path \"/media/jiayu/My Passport1/academic/depth_estimation/datasets/RGB-NIR_stereo/tzhi/RGBNIRStereoRelease/test_rgbnir_stereo_proxy/data\" \\\n",
    "    --list_path \"/media/jiayu/My Passport1/academic/depth_estimation/datasets/RGB-NIR_stereo/tzhi/RGBNIRStereoRelease/test_rgbnir_stereo_proxy/lists\" \\\n",
    "    --test_splits \"20170222_0951,20170222_1423,20170223_1639,20170224_0742\" \\\n",
    "    --model_name \"igev_eval\" \\\n",
    "    --stereo_network \"IGEVStereo\" \\\n",
    "    --train_stereo \\\n",
    "    --save_eval_results \\\n",
    "    --batch_size 2 \\\n",
    "    --norm \\\n",
    "    --load_weights_folder \"./ckpts\" \\\n",
    "    --models_to_load \"igev_best.pth\" "
   ]
  }
 ],
 "metadata": {
  "kernelspec": {
   "display_name": "Python 3 (ipykernel)",
   "language": "python",
   "name": "python3"
  },
  "language_info": {
   "codemirror_mode": {
    "name": "ipython",
    "version": 3
   },
   "file_extension": ".py",
   "mimetype": "text/x-python",
   "name": "python",
   "nbconvert_exporter": "python",
   "pygments_lexer": "ipython3",
   "version": "3.8.17"
  }
 },
 "nbformat": 4,
 "nbformat_minor": 4
}
